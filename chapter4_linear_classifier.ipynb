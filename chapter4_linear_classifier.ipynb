{
 "cells": [
  {
   "cell_type": "code",
   "execution_count": 11,
   "id": "dedicated-customs",
   "metadata": {},
   "outputs": [],
   "source": [
    "import numpy as np \n",
    "import matplotlib.pyplot as plt \n",
    "from matplotlib.colors import ListedColormap\n",
    "\n",
    "from prml.utils import gauss"
   ]
  },
  {
   "cell_type": "markdown",
   "id": "organized-front",
   "metadata": {},
   "source": [
    "# Utils"
   ]
  },
  {
   "cell_type": "code",
   "execution_count": 2,
   "id": "negative-drive",
   "metadata": {},
   "outputs": [],
   "source": [
    "# make 2-class toy data \n",
    "def make_2class_data(outlier=False):\n",
    "    X1 = np.random.rand(30).reshape(-1,1)*5 \n",
    "    X2 = np.random.rand(30).reshape(-1,1)*5 \n",
    "    if outlier:\n",
    "        X3 = np.random.rand(10).reshape(-1,1)*2 + 6\n",
    "    \n",
    "    Y1 = X1 + 2 + np.random.randn(30).reshape(-1,1)*0.6  \n",
    "    Y2 = X2 + np.random.randn(30).reshape(-1,1)*0.6\n",
    "    if outlier:\n",
    "        Y3 = X3 - 10 + np.random.randn(10).reshape(-1,1)*0.6 \n",
    "    \n",
    "    if outlier:\n",
    "        X = np.block([\n",
    "            [X1,Y1],\n",
    "            [X2,Y2],\n",
    "            [X3,Y3]\n",
    "        ])\n",
    "    else:\n",
    "        X = np.block([\n",
    "            [X1,Y1],\n",
    "            [X2,Y2]\n",
    "        ])\n",
    "    \n",
    "    y = np.zeros_like(X)\n",
    "    y[:,0] = np.where(X[:,1] > X[:,0] + 1,1,0)\n",
    "    y[:,1] = np.where(X[:,1] < X[:,0] + 1,1,0)\n",
    "    return X,y\n",
    "\n",
    "# make 3-class toy data\n",
    "def make_3class_data():\n",
    "    X1 = np.random.rand(30).reshape(-1,1)*3 \n",
    "    X2 = np.random.rand(30).reshape(-1,1)*3 + 1\n",
    "    X3 = np.random.rand(30).reshape(-1,1)*3 + 2 \n",
    "    Y1 = X1 + 8 + np.random.randn(30).reshape(-1,1)*0.6\n",
    "    Y2 = X2 + 4 + np.random.randn(30).reshape(-1,1)*0.6\n",
    "    Y3 = X3 + np.random.randn(30).reshape(-1,1)*0.6\n",
    "    X = np.block([\n",
    "            [X1,Y1],\n",
    "            [X2,Y2],\n",
    "            [X3,Y3]\n",
    "    ])\n",
    "    y = np.zeros((X.shape[0],3))\n",
    "    y[:,0] = np.where(X[:,1] > X[:,0] + 6,1,0)\n",
    "    class1 = np.logical_and((X[:,1] < X[:,0] + 6),(X[:,1] > X[:,0] + 2))\n",
    "    y[:,1] = np.where(class1,1,0)\n",
    "    y[:,2] = np.where(X[:,1] < X[:,0] + 2,1,0)\n",
    "    return X,y\n",
    "\n",
    "# transform one-hot-encoded target to label-encoded target\n",
    "class OnehotToLabel():\n",
    "    def __init__(self):\n",
    "        self.K = None \n",
    "    def fit(self,X):\n",
    "        #:params X: 2-D array \n",
    "        self.K = X.shape[1] \n",
    "        \n",
    "    def transform(self,X):\n",
    "        y = np.zeros(X.shape[0])\n",
    "        for k in range(self.K):\n",
    "            y[X[:,k] == 1] = k \n",
    "        return y\n",
    "    \n",
    "    def fit_transform(self,X):\n",
    "        self.fit(X)\n",
    "        return self.transform(X)\n",
    "    \n",
    "\n",
    "# plot decision region \n",
    "color = [\"red\",\"blue\",\"lightgreen\",\"yellow\",\"orange\",\"purple\",\"pink\"] \n",
    "def plot_classifier(X_tr,y_tr,classifier,title=\"\"):\n",
    "    if y_tr.ndim == 2:\n",
    "        to = OnehotToLabel() \n",
    "        y_tr = to.fit_transform(y_tr) \n",
    "    cmap = ListedColormap(color[:len(np.unique(y_tr))])\n",
    "    x_min,y_min = X_tr.min(axis = 0)\n",
    "    x_max,y_max = X_tr.max(axis = 0) \n",
    "    x_min,y_min = x_min-0.1,y_min-0.1\n",
    "    x_max,y_max = x_max+0.1,y_max+0.1\n",
    "    x = np.linspace(x_min,x_max,100)\n",
    "    y = np.linspace(y_min,y_max,100) \n",
    "    xs,ys = np.meshgrid(x,y)\n",
    "    labels = classifier.predict(np.array([xs.ravel(),ys.ravel()]).T)\n",
    "    if labels.ndim == 2:\n",
    "        labels = to.transform(labels)\n",
    "    labels = labels.reshape(xs.shape)\n",
    "    \n",
    "    figure,axes = plt.subplots(1,1,figsize=(10,7))\n",
    "    axes.contourf(xs,ys,labels,alpha=0.3,cmap=cmap)\n",
    "    axes.set_xlim(x_min,x_max)\n",
    "    axes.set_ylim(y_min,y_max)\n",
    "    for idx,label in enumerate(np.unique(y_tr)):\n",
    "        axes.scatter(x=X_tr[y_tr == label,0],\n",
    "                    y=X_tr[y_tr == label,1],\n",
    "                    alpha=0.8,\n",
    "                    c=color[idx],\n",
    "                    label=label)\n",
    "    axes.set_title(title)\n",
    "    plt.legend()\n",
    "    plt.show()"
   ]
  },
  {
   "cell_type": "markdown",
   "id": "animated-image",
   "metadata": {},
   "source": [
    "# Least squares for classification "
   ]
  },
  {
   "cell_type": "code",
   "execution_count": 3,
   "id": "referenced-native",
   "metadata": {},
   "outputs": [],
   "source": [
    "class LinearClassifier():\n",
    "    # loss : mean_squared_error \n",
    "    def __init__(self):\n",
    "        self.weight = None\n",
    "        self.K = None \n",
    "    \n",
    "    def fit(self,X,y):\n",
    "        #:params X: 2-D array (N_samples,N_dims)\n",
    "        #:params y: 2-D array (N_samples,N_classes) one-hot-encode\n",
    "        self.K = y.shape[1]\n",
    "        one = np.ones((X.shape[0],1))\n",
    "        X = np.hstack((one,X))\n",
    "        self.weight = np.linalg.inv(X.T@X)@X.T@y \n",
    "    \n",
    "    def predict(self,X):\n",
    "        #:params X: 2-D array (N_samples,N_dims)\n",
    "        #:return: 2-D array (N_samples,N_classes) one-hot-encode\n",
    "        one = np.ones((X.shape[0],1))\n",
    "        X = np.hstack((one,X))\n",
    "        y = X@self.weight\n",
    "        label = y.argmax(axis = 1)\n",
    "        onehot = np.zeros_like(y)\n",
    "        for k in range(self.K):\n",
    "            onehot[label == k,k] = 1 \n",
    "        return onehot "
   ]
  },
  {
   "cell_type": "code",
   "execution_count": 4,
   "id": "fifteen-slovak",
   "metadata": {},
   "outputs": [
    {
     "data": {
      "image/png": "[encoded data removed]",
      "text/plain": [
       "<Figure size 720x504 with 1 Axes>"
      ]
     },
     "metadata": {
      "needs_background": "light"
     },
     "output_type": "display_data"
    }
   ],
   "source": [
    "X,y = make_2class_data(outlier=False)\n",
    "lc = LinearClassifier()\n",
    "lc.fit(X,y)\n",
    "plot_classifier(X,y,lc,title=\"Without Outlier\")"
   ]
  },
  {
   "cell_type": "code",
   "execution_count": 5,
   "id": "floating-range",
   "metadata": {},
   "outputs": [
    {
     "data": {
      "image/png": "[encoded data removed]",
      "text/plain": [
       "<Figure size 720x504 with 1 Axes>"
      ]
     },
     "metadata": {
      "needs_background": "light"
     },
     "output_type": "display_data"
    }
   ],
   "source": [
    "X,y = make_2class_data(outlier=True)\n",
    "lc = LinearClassifier()\n",
    "lc.fit(X,y)\n",
    "plot_classifier(X,y,lc,title=\"With Outlier\")"
   ]
  },
  {
   "cell_type": "code",
   "execution_count": 6,
   "id": "opening-guard",
   "metadata": {},
   "outputs": [
    {
     "data": {
      "image/png": "[encoded data removed]",
      "text/plain": [
       "<Figure size 720x504 with 1 Axes>"
      ]
     },
     "metadata": {
      "needs_background": "light"
     },
     "output_type": "display_data"
    }
   ],
   "source": [
    "X,y = make_3class_data()\n",
    "lc = LinearClassifier()\n",
    "lc.fit(X,y)\n",
    "y_pred = lc.predict(X)\n",
    "plot_classifier(X,y,lc,title=\"Three Class\")"
   ]
  },
  {
   "cell_type": "markdown",
   "id": "structured-drove",
   "metadata": {},
   "source": [
    "# Fisher's linear discriminant"
   ]
  },
  {
   "cell_type": "markdown",
   "id": "innocent-wiring",
   "metadata": {},
   "source": [
    "<h3>\n",
    "    $$S_W = \\sum_{n \\in C_1}(x_n - m_1)(x_n - m_1)^\\top + \\sum_{n \\in C_2}(x_n - m_2)(x_n - m_2)^\\top$$\n",
    "</h3>"
   ]
  },
  {
   "cell_type": "code",
   "execution_count": 7,
   "id": "civil-contest",
   "metadata": {},
   "outputs": [],
   "source": [
    "class Fisher1D():\n",
    "    def __init__(self):\n",
    "        self.weight = None \n",
    "        \n",
    "    def fit(self,X,y):\n",
    "        #:params X: 2-D array (N_samples,N_dim)\n",
    "        #:params y: 2-D array (N_samples,2) one-hot-encode\n",
    "        class0 = X[y[:,0] == 1]\n",
    "        class1 = X[y[:,1] == 1]\n",
    "        m1 = class0.mean(axis = 0)\n",
    "        m2 = class1.mean(axis = 0)\n",
    "        S_w = (class0 - m1).T@(class0 - m1) + (class1 - m2).T@(class1 - m2)\n",
    "        self.weight = np.linalg.inv(S_w)@(m2 - m1).reshape(-1,1) \n",
    "        \n",
    "    def transform(self,X):\n",
    "        return (X@self.weight).ravel()\n",
    "    \n",
    "    def fit_transform(self,X,y):\n",
    "        self.fit(X,y)\n",
    "        return self.transform(X)"
   ]
  },
  {
   "cell_type": "code",
   "execution_count": 8,
   "id": "interested-childhood",
   "metadata": {},
   "outputs": [
    {
     "data": {
      "image/png": "[encoded data removed]",
      "text/plain": [
       "<Figure size 720x504 with 1 Axes>"
      ]
     },
     "metadata": {
      "needs_background": "light"
     },
     "output_type": "display_data"
    }
   ],
   "source": [
    "X,y = make_2class_data(outlier=False)\n",
    "fisher1d = Fisher1D()\n",
    "X_1d = fisher1d.fit_transform(X,y)\n",
    "\n",
    "X_1d_class1 = X_1d[y[:,0] == 1]\n",
    "X_1d_class2 = X_1d[y[:,1] == 1]\n",
    "\n",
    "fig = plt.figure(figsize=(10,7)) \n",
    "ax = fig.add_subplot(1,1,1)\n",
    "ax.hist(X_1d_class1,bins=20,alpha=0.5,label=\"class1\")\n",
    "ax.hist(X_1d_class2,bins=20,alpha=0.5,label=\"class2\") \n",
    "ax.set_title(\"Fischer linear discriminant\")\n",
    "plt.legend()\n",
    "plt.show()"
   ]
  },
  {
   "cell_type": "code",
   "execution_count": 9,
   "id": "standard-waterproof",
   "metadata": {},
   "outputs": [],
   "source": [
    "class Fisher():\n",
    "    def __init__(self,n_components=None):\n",
    "        self.weight = None\n",
    "        self.n_components = n_components \n",
    "        \n",
    "    def fit(self,X,y):\n",
    "        #:params X: 2-D array (N_samples,N_dim)\n",
    "        #:params y: 2-D array (N_samples,N_classes) one-hot-encode\n",
    "        K = y.shape[1]\n",
    "        D = X.shape[1]\n",
    "        m = X.mean(axis = 0) \n",
    "        S_W = np.zeros((D,D))\n",
    "        S_B = np.zeros((D,D))\n",
    "        for k in range(K):\n",
    "            X_k = X[y[:,k] == 1]\n",
    "            m_k = X_k.mean(axis = 0) \n",
    "            S_W += (X_k - m_k).T@(X_k - m_k)\n",
    "            S_B += X_k.shape[0]*(m_k - m)@(m_k - m).T\n",
    "        _,eigen_vec = np.linalg.eig(np.linalg.inv(S_W)@S_B)\n",
    "        if self.n_components is not None:\n",
    "            self.weight = eigen_vec[:,:self.n_components]\n",
    "        else:\n",
    "            self.weight = eigen_vec[:,:K]  \n",
    "        \n",
    "    def transform(self,X):\n",
    "        return X@self.weight\n",
    "    \n",
    "    def fit_transform(self,X,y):\n",
    "        self.fit(X,y)\n",
    "        return self.transform(X)"
   ]
  },
  {
   "cell_type": "code",
   "execution_count": 10,
   "id": "solid-prerequisite",
   "metadata": {},
   "outputs": [
    {
     "data": {
      "image/png": "[encoded data removed]",
      "text/plain": [
       "<Figure size 720x504 with 1 Axes>"
      ]
     },
     "metadata": {
      "needs_background": "light"
     },
     "output_type": "display_data"
    }
   ],
   "source": [
    "fisher = Fisher(n_components=1) \n",
    "X,y = make_3class_data()\n",
    "m = X.mean(axis = 0)\n",
    "s = X.std(axis = 0)\n",
    "X = (X - m)/s\n",
    "X_1d = fisher.fit_transform(X,y)\n",
    "\n",
    "X_1d_class1 = X_1d[y[:,0] == 1]\n",
    "X_1d_class2 = X_1d[y[:,1] == 1]\n",
    "X_1d_class3 = X_1d[y[:,2] == 1] \n",
    "\n",
    "fig = plt.figure(figsize=(10,7)) \n",
    "ax = fig.add_subplot(1,1,1)\n",
    "ax.hist(X_1d_class1,bins=20,alpha=0.5,label=\"class1\")\n",
    "ax.hist(X_1d_class2,bins=20,alpha=0.5,label=\"class2\") \n",
    "ax.hist(X_1d_class3,bins=20,alpha=0.5,label=\"class3\") \n",
    "ax.set_title(\"Fischer linear discriminant\")\n",
    "plt.legend()\n",
    "plt.show()"
   ]
  },
  {
   "cell_type": "markdown",
   "id": "threatened-video",
   "metadata": {},
   "source": [
    "# Perceptron Algorithum"
   ]
  },
  {
   "cell_type": "code",
   "execution_count": 396,
   "id": "developing-communication",
   "metadata": {},
   "outputs": [],
   "source": [
    "class Perceptron():\n",
    "    def __init__(self,learning_rate=1e-3,max_iter=100):\n",
    "        self.learning_rate = learning_rate \n",
    "        self.max_iter = max_iter\n",
    "        self.weight = None \n",
    "        self.phi = lambda x: np.concatenate(([1],x))\n",
    "        \n",
    "    def fit(self,X,y):\n",
    "        #:params X: 2-D array (N_samples,N_dims)\n",
    "        #:params y: 2-D array (N_samples,2) onehotencoding\n",
    "        \n",
    "        # make y to 1-D array and value is 1 or -1 \n",
    "        new_y = np.zeros(X.shape[0])\n",
    "        new_y[y[:,0] == 1] = -1\n",
    "        new_y[y[:,1] == 1] = 1\n",
    "        y = new_y\n",
    "        \n",
    "        M = X.shape[1] + 1\n",
    "        self.weight = np.random.randn(M,1) \n",
    "        for _ in range(self.max_iter):\n",
    "            y_pred = self._predict(X)\n",
    "            incorrect = X[y_pred*y < 0]\n",
    "            slope = np.vstack([self.phi(x)*y[i] for i,x in enumerate(incorrect)]).sum(axis = 0) \n",
    "            self.weight += self.learning_rate*slope.reshape(-1,1)\n",
    "    \n",
    "    def _predict(self,X):\n",
    "        #:params X: 2-D array (N_samples,N_dims)\n",
    "        #:return y_pred: 1-D array (N_samples,) value is -1 or 1 \n",
    "        # for training\n",
    "        \n",
    "        design_mat = np.vstack([self.phi(x) for x in X])\n",
    "        return np.where(design_mat@self.weight > 0,1,-1).ravel()\n",
    "        \n",
    "    def predict(self,X):\n",
    "        #:params X: 2-D array (N_samples,N_dims)\n",
    "        #:return y_pred: 2-D array (N_samples,2) onehotencoding\n",
    "        \n",
    "        design_mat = np.vstack([self.phi(x) for x in X])\n",
    "        pred = (design_mat@self.weight).ravel()\n",
    "        y = np.zeros((X.shape[0],2))\n",
    "        y[pred < 0,0] = 1\n",
    "        y[pred > 0,1] = 1\n",
    "        return y"
   ]
  },
  {
   "cell_type": "code",
   "execution_count": 407,
   "id": "anonymous-influence",
   "metadata": {},
   "outputs": [],
   "source": [
    "X,y = make_2class_data()\n",
    "pn = Perceptron(learning_rate=1e-6,max_iter=30)\n",
    "pn.fit(X,y)"
   ]
  },
  {
   "cell_type": "code",
   "execution_count": 408,
   "id": "relevant-appliance",
   "metadata": {},
   "outputs": [
    {
     "data": {
      "image/png": "[encoded data removed]",
      "text/plain": [
       "<Figure size 720x504 with 1 Axes>"
      ]
     },
     "metadata": {
      "needs_background": "light"
     },
     "output_type": "display_data"
    }
   ],
   "source": [
    "plot_classifier(X,y,pn,title=\"Perceptron\")"
   ]
  },
  {
   "cell_type": "code",
   "execution_count": null,
   "id": "temporal-frederick",
   "metadata": {},
   "outputs": [],
   "source": [
    "\n"
   ]
  },
  {
   "cell_type": "code",
   "execution_count": null,
   "id": "olympic-chile",
   "metadata": {},
   "outputs": [],
   "source": []
  },
  {
   "cell_type": "code",
   "execution_count": null,
   "id": "higher-finger",
   "metadata": {},
   "outputs": [],
   "source": []
  }
 ],
 "metadata": {
  "kernelspec": {
   "display_name": "Python 3",
   "language": "python",
   "name": "python3"
  },
  "language_info": {
   "codemirror_mode": {
    "name": "ipython",
    "version": 3
   },
   "file_extension": ".py",
   "mimetype": "text/x-python",
   "name": "python",
   "nbconvert_exporter": "python",
   "pygments_lexer": "ipython3",
   "version": "3.7.6"
  }
 },
 "nbformat": 4,
 "nbformat_minor": 5
}
